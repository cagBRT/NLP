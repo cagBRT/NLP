{
  "nbformat": 4,
  "nbformat_minor": 0,
  "metadata": {
    "colab": {
      "provenance": [],
      "include_colab_link": true
    },
    "kernelspec": {
      "name": "python3",
      "display_name": "Python 3"
    },
    "language_info": {
      "name": "python"
    }
  },
  "cells": [
    {
      "cell_type": "markdown",
      "metadata": {
        "id": "view-in-github",
        "colab_type": "text"
      },
      "source": [
        "<a href=\"https://colab.research.google.com/github/cagBRT/NLP/blob/main/NLP_monitoring_tutorial.ipynb\" target=\"_parent\"><img src=\"https://colab.research.google.com/assets/colab-badge.svg\" alt=\"Open In Colab\"/></a>"
      ]
    },
    {
      "cell_type": "markdown",
      "source": [
        "# Imports and support functions"
      ],
      "metadata": {
        "id": "g2Wm7fyUJgCN"
      }
    },
    {
      "cell_type": "code",
      "source": [
        "import pandas as pd\n",
        "import requests\n",
        "import zipfile\n",
        "import io\n",
        "import random"
      ],
      "metadata": {
        "id": "kstcCrLYJlJU"
      },
      "execution_count": 1,
      "outputs": []
    },
    {
      "cell_type": "code",
      "source": [
        "from sklearn.model_selection import train_test_split"
      ],
      "metadata": {
        "id": "m4DldPK7Jwhr"
      },
      "execution_count": 2,
      "outputs": []
    },
    {
      "cell_type": "code",
      "source": [
        "from sklearn.pipeline import Pipeline\n",
        "from sklearn.feature_extraction.text import TfidfVectorizer\n",
        "from sklearn.linear_model import SGDClassifier"
      ],
      "metadata": {
        "id": "F2mGqM_UJmuZ"
      },
      "execution_count": 3,
      "outputs": []
    },
    {
      "cell_type": "code",
      "source": [
        "# install evidently from master\n",
        "try:\n",
        "    import evidently\n",
        "except:\n",
        "    !pip install git+https://github.com/evidentlyai/evidently.git"
      ],
      "metadata": {
        "id": "MjRLfTLxJz5j",
        "outputId": "147fc9c3-1ce0-4f60-9f08-a2bc6092f56c",
        "colab": {
          "base_uri": "https://localhost:8080/"
        }
      },
      "execution_count": 4,
      "outputs": [
        {
          "output_type": "stream",
          "name": "stdout",
          "text": [
            "Looking in indexes: https://pypi.org/simple, https://us-python.pkg.dev/colab-wheels/public/simple/\n",
            "Collecting git+https://github.com/evidentlyai/evidently.git\n",
            "  Cloning https://github.com/evidentlyai/evidently.git to /tmp/pip-req-build-pjnstdg6\n",
            "  Running command git clone --filter=blob:none --quiet https://github.com/evidentlyai/evidently.git /tmp/pip-req-build-pjnstdg6\n",
            "  Resolved https://github.com/evidentlyai/evidently.git to commit 355f5c5c2071591a63e2ed0ee1dbf85b5d2b9a1a\n",
            "  Preparing metadata (setup.py) ... \u001b[?25l\u001b[?25hdone\n",
            "Requirement already satisfied: plotly>=5.5.0 in /usr/local/lib/python3.9/dist-packages (from evidently==0.2.7) (5.13.1)\n",
            "Requirement already satisfied: statsmodels>=0.12.2 in /usr/local/lib/python3.9/dist-packages (from evidently==0.2.7) (0.13.5)\n",
            "Requirement already satisfied: scikit-learn>=0.24.0 in /usr/local/lib/python3.9/dist-packages (from evidently==0.2.7) (1.2.2)\n",
            "Requirement already satisfied: pandas>=1.3.5 in /usr/local/lib/python3.9/dist-packages (from evidently==0.2.7) (1.4.4)\n",
            "Requirement already satisfied: numpy>=1.19.5 in /usr/local/lib/python3.9/dist-packages (from evidently==0.2.7) (1.22.4)\n",
            "Requirement already satisfied: nltk>=3.6.7 in /usr/local/lib/python3.9/dist-packages (from evidently==0.2.7) (3.8.1)\n",
            "Requirement already satisfied: scipy>=1.5.4 in /usr/local/lib/python3.9/dist-packages (from evidently==0.2.7) (1.10.1)\n",
            "Requirement already satisfied: requests>=2.19.0 in /usr/local/lib/python3.9/dist-packages (from evidently==0.2.7) (2.27.1)\n",
            "Requirement already satisfied: PyYAML>=5.1 in /usr/local/lib/python3.9/dist-packages (from evidently==0.2.7) (6.0)\n",
            "Requirement already satisfied: pydantic<2 in /usr/local/lib/python3.9/dist-packages (from evidently==0.2.7) (1.10.7)\n",
            "Requirement already satisfied: regex>=2021.8.3 in /usr/local/lib/python3.9/dist-packages (from nltk>=3.6.7->evidently==0.2.7) (2022.10.31)\n",
            "Requirement already satisfied: click in /usr/local/lib/python3.9/dist-packages (from nltk>=3.6.7->evidently==0.2.7) (8.1.3)\n",
            "Requirement already satisfied: tqdm in /usr/local/lib/python3.9/dist-packages (from nltk>=3.6.7->evidently==0.2.7) (4.65.0)\n",
            "Requirement already satisfied: joblib in /usr/local/lib/python3.9/dist-packages (from nltk>=3.6.7->evidently==0.2.7) (1.1.1)\n",
            "Requirement already satisfied: pytz>=2020.1 in /usr/local/lib/python3.9/dist-packages (from pandas>=1.3.5->evidently==0.2.7) (2022.7.1)\n",
            "Requirement already satisfied: python-dateutil>=2.8.1 in /usr/local/lib/python3.9/dist-packages (from pandas>=1.3.5->evidently==0.2.7) (2.8.2)\n",
            "Requirement already satisfied: tenacity>=6.2.0 in /usr/local/lib/python3.9/dist-packages (from plotly>=5.5.0->evidently==0.2.7) (8.2.2)\n",
            "Requirement already satisfied: typing-extensions>=4.2.0 in /usr/local/lib/python3.9/dist-packages (from pydantic<2->evidently==0.2.7) (4.5.0)\n",
            "Requirement already satisfied: certifi>=2017.4.17 in /usr/local/lib/python3.9/dist-packages (from requests>=2.19.0->evidently==0.2.7) (2022.12.7)\n",
            "Requirement already satisfied: idna<4,>=2.5 in /usr/local/lib/python3.9/dist-packages (from requests>=2.19.0->evidently==0.2.7) (3.4)\n",
            "Requirement already satisfied: urllib3<1.27,>=1.21.1 in /usr/local/lib/python3.9/dist-packages (from requests>=2.19.0->evidently==0.2.7) (1.26.15)\n",
            "Requirement already satisfied: charset-normalizer~=2.0.0 in /usr/local/lib/python3.9/dist-packages (from requests>=2.19.0->evidently==0.2.7) (2.0.12)\n",
            "Requirement already satisfied: threadpoolctl>=2.0.0 in /usr/local/lib/python3.9/dist-packages (from scikit-learn>=0.24.0->evidently==0.2.7) (3.1.0)\n",
            "Requirement already satisfied: packaging>=21.3 in /usr/local/lib/python3.9/dist-packages (from statsmodels>=0.12.2->evidently==0.2.7) (23.0)\n",
            "Requirement already satisfied: patsy>=0.5.2 in /usr/local/lib/python3.9/dist-packages (from statsmodels>=0.12.2->evidently==0.2.7) (0.5.3)\n",
            "Requirement already satisfied: six in /usr/local/lib/python3.9/dist-packages (from patsy>=0.5.2->statsmodels>=0.12.2->evidently==0.2.7) (1.16.0)\n",
            "Building wheels for collected packages: evidently\n",
            "  Building wheel for evidently (setup.py) ... \u001b[?25l\u001b[?25hdone\n",
            "  Created wheel for evidently: filename=evidently-0.2.7-py3-none-any.whl size=2074610 sha256=9b0a450d38c10efdeb3f2badf1049713b4623860ba56cf754177c1da406fc18b\n",
            "  Stored in directory: /tmp/pip-ephem-wheel-cache-ph93ruvn/wheels/a0/db/24/76a6360b8b375abc0a108e585d73d098e82dff7b768c7929e1\n",
            "Successfully built evidently\n",
            "Installing collected packages: evidently\n",
            "Successfully installed evidently-0.2.7\n"
          ]
        }
      ]
    },
    {
      "cell_type": "code",
      "source": [
        "from evidently.pipeline.column_mapping import ColumnMapping\n",
        "\n",
        "from evidently.report import Report\n",
        "from evidently.metric_preset import DataDriftPreset, TargetDriftPreset\n",
        "from evidently.metric_preset import ClassificationPreset\n",
        "from evidently.metrics import ClassificationQualityMetric, TextDescriptorsDriftMetric, ColumnDriftMetric"
      ],
      "metadata": {
        "id": "6UbTvcjWJ4hz"
      },
      "execution_count": 5,
      "outputs": []
    },
    {
      "cell_type": "markdown",
      "source": [
        "# Load data"
      ],
      "metadata": {
        "id": "qVcOsoGQK4PJ"
      }
    },
    {
      "cell_type": "markdown",
      "source": [
        "We will work with a dataset that contains reviews and ratings for different drugs. "
      ],
      "metadata": {
        "id": "mukd-AcEK9sI"
      }
    },
    {
      "cell_type": "code",
      "source": [
        "content = requests.get(\"https://archive.ics.uci.edu/ml/machine-learning-databases/00462/drugsCom_raw.zip\").content\n",
        "with zipfile.ZipFile(io.BytesIO(content)) as arc:\n",
        "    raw_data = pd.read_csv(arc.open(\"drugsComTest_raw.tsv\"), sep='\\t')\n",
        "\n",
        "raw_data = raw_data[['drugName', 'condition', 'review',\t'rating']]"
      ],
      "metadata": {
        "id": "wgt0CmMj1C3Z"
      },
      "execution_count": 6,
      "outputs": []
    },
    {
      "cell_type": "markdown",
      "source": [
        "Data source: https://archive.ics.uci.edu/ml/datasets/Drug+Review+Dataset+%28Drugs.com%29\n",
        "\n",
        "Citation:\n",
        "Felix Gräßer, Surya Kallumadi, Hagen Malberg, and Sebastian Zaunseder. 2018. Aspect-Based Sentiment Analysis of Drug Reviews Applying Cross-Domain and Cross-Data Learning. In Proceedings of the 2018 International Conference on Digital Health (DH '18). ACM, New York, NY, USA, 121-125. DOI: [Web Link]"
      ],
      "metadata": {
        "id": "jGZHTfiBViAy"
      }
    },
    {
      "cell_type": "code",
      "source": [
        "raw_data.head()"
      ],
      "metadata": {
        "colab": {
          "base_uri": "https://localhost:8080/",
          "height": 206
        },
        "id": "0TQPDqoQ1uaQ",
        "outputId": "42795a84-e69d-4d59-be4e-fe06707356c1"
      },
      "execution_count": 7,
      "outputs": [
        {
          "output_type": "execute_result",
          "data": {
            "text/plain": [
              "          drugName                     condition  \\\n",
              "0      Mirtazapine                    Depression   \n",
              "1       Mesalamine  Crohn's Disease, Maintenance   \n",
              "2          Bactrim       Urinary Tract Infection   \n",
              "3         Contrave                   Weight Loss   \n",
              "4  Cyclafem 1 / 35                 Birth Control   \n",
              "\n",
              "                                              review  rating  \n",
              "0  \"I&#039;ve tried a few antidepressants over th...    10.0  \n",
              "1  \"My son has Crohn&#039;s disease and has done ...     8.0  \n",
              "2                      \"Quick reduction of symptoms\"     9.0  \n",
              "3  \"Contrave combines drugs that were used for al...     9.0  \n",
              "4  \"I have been on this birth control for one cyc...     9.0  "
            ],
            "text/html": [
              "\n",
              "  <div id=\"df-a446e563-e3dd-4387-b852-718bc8a0f082\">\n",
              "    <div class=\"colab-df-container\">\n",
              "      <div>\n",
              "<style scoped>\n",
              "    .dataframe tbody tr th:only-of-type {\n",
              "        vertical-align: middle;\n",
              "    }\n",
              "\n",
              "    .dataframe tbody tr th {\n",
              "        vertical-align: top;\n",
              "    }\n",
              "\n",
              "    .dataframe thead th {\n",
              "        text-align: right;\n",
              "    }\n",
              "</style>\n",
              "<table border=\"1\" class=\"dataframe\">\n",
              "  <thead>\n",
              "    <tr style=\"text-align: right;\">\n",
              "      <th></th>\n",
              "      <th>drugName</th>\n",
              "      <th>condition</th>\n",
              "      <th>review</th>\n",
              "      <th>rating</th>\n",
              "    </tr>\n",
              "  </thead>\n",
              "  <tbody>\n",
              "    <tr>\n",
              "      <th>0</th>\n",
              "      <td>Mirtazapine</td>\n",
              "      <td>Depression</td>\n",
              "      <td>\"I&amp;#039;ve tried a few antidepressants over th...</td>\n",
              "      <td>10.0</td>\n",
              "    </tr>\n",
              "    <tr>\n",
              "      <th>1</th>\n",
              "      <td>Mesalamine</td>\n",
              "      <td>Crohn's Disease, Maintenance</td>\n",
              "      <td>\"My son has Crohn&amp;#039;s disease and has done ...</td>\n",
              "      <td>8.0</td>\n",
              "    </tr>\n",
              "    <tr>\n",
              "      <th>2</th>\n",
              "      <td>Bactrim</td>\n",
              "      <td>Urinary Tract Infection</td>\n",
              "      <td>\"Quick reduction of symptoms\"</td>\n",
              "      <td>9.0</td>\n",
              "    </tr>\n",
              "    <tr>\n",
              "      <th>3</th>\n",
              "      <td>Contrave</td>\n",
              "      <td>Weight Loss</td>\n",
              "      <td>\"Contrave combines drugs that were used for al...</td>\n",
              "      <td>9.0</td>\n",
              "    </tr>\n",
              "    <tr>\n",
              "      <th>4</th>\n",
              "      <td>Cyclafem 1 / 35</td>\n",
              "      <td>Birth Control</td>\n",
              "      <td>\"I have been on this birth control for one cyc...</td>\n",
              "      <td>9.0</td>\n",
              "    </tr>\n",
              "  </tbody>\n",
              "</table>\n",
              "</div>\n",
              "      <button class=\"colab-df-convert\" onclick=\"convertToInteractive('df-a446e563-e3dd-4387-b852-718bc8a0f082')\"\n",
              "              title=\"Convert this dataframe to an interactive table.\"\n",
              "              style=\"display:none;\">\n",
              "        \n",
              "  <svg xmlns=\"http://www.w3.org/2000/svg\" height=\"24px\"viewBox=\"0 0 24 24\"\n",
              "       width=\"24px\">\n",
              "    <path d=\"M0 0h24v24H0V0z\" fill=\"none\"/>\n",
              "    <path d=\"M18.56 5.44l.94 2.06.94-2.06 2.06-.94-2.06-.94-.94-2.06-.94 2.06-2.06.94zm-11 1L8.5 8.5l.94-2.06 2.06-.94-2.06-.94L8.5 2.5l-.94 2.06-2.06.94zm10 10l.94 2.06.94-2.06 2.06-.94-2.06-.94-.94-2.06-.94 2.06-2.06.94z\"/><path d=\"M17.41 7.96l-1.37-1.37c-.4-.4-.92-.59-1.43-.59-.52 0-1.04.2-1.43.59L10.3 9.45l-7.72 7.72c-.78.78-.78 2.05 0 2.83L4 21.41c.39.39.9.59 1.41.59.51 0 1.02-.2 1.41-.59l7.78-7.78 2.81-2.81c.8-.78.8-2.07 0-2.86zM5.41 20L4 18.59l7.72-7.72 1.47 1.35L5.41 20z\"/>\n",
              "  </svg>\n",
              "      </button>\n",
              "      \n",
              "  <style>\n",
              "    .colab-df-container {\n",
              "      display:flex;\n",
              "      flex-wrap:wrap;\n",
              "      gap: 12px;\n",
              "    }\n",
              "\n",
              "    .colab-df-convert {\n",
              "      background-color: #E8F0FE;\n",
              "      border: none;\n",
              "      border-radius: 50%;\n",
              "      cursor: pointer;\n",
              "      display: none;\n",
              "      fill: #1967D2;\n",
              "      height: 32px;\n",
              "      padding: 0 0 0 0;\n",
              "      width: 32px;\n",
              "    }\n",
              "\n",
              "    .colab-df-convert:hover {\n",
              "      background-color: #E2EBFA;\n",
              "      box-shadow: 0px 1px 2px rgba(60, 64, 67, 0.3), 0px 1px 3px 1px rgba(60, 64, 67, 0.15);\n",
              "      fill: #174EA6;\n",
              "    }\n",
              "\n",
              "    [theme=dark] .colab-df-convert {\n",
              "      background-color: #3B4455;\n",
              "      fill: #D2E3FC;\n",
              "    }\n",
              "\n",
              "    [theme=dark] .colab-df-convert:hover {\n",
              "      background-color: #434B5C;\n",
              "      box-shadow: 0px 1px 3px 1px rgba(0, 0, 0, 0.15);\n",
              "      filter: drop-shadow(0px 1px 2px rgba(0, 0, 0, 0.3));\n",
              "      fill: #FFFFFF;\n",
              "    }\n",
              "  </style>\n",
              "\n",
              "      <script>\n",
              "        const buttonEl =\n",
              "          document.querySelector('#df-a446e563-e3dd-4387-b852-718bc8a0f082 button.colab-df-convert');\n",
              "        buttonEl.style.display =\n",
              "          google.colab.kernel.accessAllowed ? 'block' : 'none';\n",
              "\n",
              "        async function convertToInteractive(key) {\n",
              "          const element = document.querySelector('#df-a446e563-e3dd-4387-b852-718bc8a0f082');\n",
              "          const dataTable =\n",
              "            await google.colab.kernel.invokeFunction('convertToInteractive',\n",
              "                                                     [key], {});\n",
              "          if (!dataTable) return;\n",
              "\n",
              "          const docLinkHtml = 'Like what you see? Visit the ' +\n",
              "            '<a target=\"_blank\" href=https://colab.research.google.com/notebooks/data_table.ipynb>data table notebook</a>'\n",
              "            + ' to learn more about interactive tables.';\n",
              "          element.innerHTML = '';\n",
              "          dataTable['output_type'] = 'display_data';\n",
              "          await google.colab.output.renderOutput(dataTable, element);\n",
              "          const docLink = document.createElement('div');\n",
              "          docLink.innerHTML = docLinkHtml;\n",
              "          element.appendChild(docLink);\n",
              "        }\n",
              "      </script>\n",
              "    </div>\n",
              "  </div>\n",
              "  "
            ]
          },
          "metadata": {},
          "execution_count": 7
        }
      ]
    },
    {
      "cell_type": "markdown",
      "source": [
        "# Training and testing the model"
      ],
      "metadata": {
        "id": "U0SwHiH54h3m"
      }
    },
    {
      "cell_type": "markdown",
      "source": [
        "Suppose we want to build a model to distinguish between reviews with rating 1 (negative review) and 10 (positive review). Let's also assume that we only have access to reviews on pain medications. "
      ],
      "metadata": {
        "id": "eoxu9017L70k"
      }
    },
    {
      "cell_type": "code",
      "source": [
        "init_data = raw_data.loc[(raw_data['condition'] == 'Pain') & (raw_data['rating'].isin([1, 10])), ['review', 'rating']]\n",
        "init_data['is_positive'] = init_data['rating'].apply(lambda x: 0 if x == 1 else 1)\n",
        "init_data.drop(['rating'], inplace=True, axis=1)\n",
        "init_data.head()"
      ],
      "metadata": {
        "colab": {
          "base_uri": "https://localhost:8080/",
          "height": 206
        },
        "id": "tn3PAtpj4lNq",
        "outputId": "a607a821-1bfb-4932-c95d-efc94d4c2137"
      },
      "execution_count": 8,
      "outputs": [
        {
          "output_type": "execute_result",
          "data": {
            "text/plain": [
              "                                                review  is_positive\n",
              "77   \"I have severe scar tissue and adhesions from ...            1\n",
              "120  \"In 2000 I had 4 surgeries to repair an anal f...            1\n",
              "140  \"This medication does not relieve eve the slig...            0\n",
              "141  \"After I was discharged from intensive care, I...            0\n",
              "165  \"I was given Demorol for pain in the ER about ...            1"
            ],
            "text/html": [
              "\n",
              "  <div id=\"df-bd92ad74-f581-4151-8445-837fa414a175\">\n",
              "    <div class=\"colab-df-container\">\n",
              "      <div>\n",
              "<style scoped>\n",
              "    .dataframe tbody tr th:only-of-type {\n",
              "        vertical-align: middle;\n",
              "    }\n",
              "\n",
              "    .dataframe tbody tr th {\n",
              "        vertical-align: top;\n",
              "    }\n",
              "\n",
              "    .dataframe thead th {\n",
              "        text-align: right;\n",
              "    }\n",
              "</style>\n",
              "<table border=\"1\" class=\"dataframe\">\n",
              "  <thead>\n",
              "    <tr style=\"text-align: right;\">\n",
              "      <th></th>\n",
              "      <th>review</th>\n",
              "      <th>is_positive</th>\n",
              "    </tr>\n",
              "  </thead>\n",
              "  <tbody>\n",
              "    <tr>\n",
              "      <th>77</th>\n",
              "      <td>\"I have severe scar tissue and adhesions from ...</td>\n",
              "      <td>1</td>\n",
              "    </tr>\n",
              "    <tr>\n",
              "      <th>120</th>\n",
              "      <td>\"In 2000 I had 4 surgeries to repair an anal f...</td>\n",
              "      <td>1</td>\n",
              "    </tr>\n",
              "    <tr>\n",
              "      <th>140</th>\n",
              "      <td>\"This medication does not relieve eve the slig...</td>\n",
              "      <td>0</td>\n",
              "    </tr>\n",
              "    <tr>\n",
              "      <th>141</th>\n",
              "      <td>\"After I was discharged from intensive care, I...</td>\n",
              "      <td>0</td>\n",
              "    </tr>\n",
              "    <tr>\n",
              "      <th>165</th>\n",
              "      <td>\"I was given Demorol for pain in the ER about ...</td>\n",
              "      <td>1</td>\n",
              "    </tr>\n",
              "  </tbody>\n",
              "</table>\n",
              "</div>\n",
              "      <button class=\"colab-df-convert\" onclick=\"convertToInteractive('df-bd92ad74-f581-4151-8445-837fa414a175')\"\n",
              "              title=\"Convert this dataframe to an interactive table.\"\n",
              "              style=\"display:none;\">\n",
              "        \n",
              "  <svg xmlns=\"http://www.w3.org/2000/svg\" height=\"24px\"viewBox=\"0 0 24 24\"\n",
              "       width=\"24px\">\n",
              "    <path d=\"M0 0h24v24H0V0z\" fill=\"none\"/>\n",
              "    <path d=\"M18.56 5.44l.94 2.06.94-2.06 2.06-.94-2.06-.94-.94-2.06-.94 2.06-2.06.94zm-11 1L8.5 8.5l.94-2.06 2.06-.94-2.06-.94L8.5 2.5l-.94 2.06-2.06.94zm10 10l.94 2.06.94-2.06 2.06-.94-2.06-.94-.94-2.06-.94 2.06-2.06.94z\"/><path d=\"M17.41 7.96l-1.37-1.37c-.4-.4-.92-.59-1.43-.59-.52 0-1.04.2-1.43.59L10.3 9.45l-7.72 7.72c-.78.78-.78 2.05 0 2.83L4 21.41c.39.39.9.59 1.41.59.51 0 1.02-.2 1.41-.59l7.78-7.78 2.81-2.81c.8-.78.8-2.07 0-2.86zM5.41 20L4 18.59l7.72-7.72 1.47 1.35L5.41 20z\"/>\n",
              "  </svg>\n",
              "      </button>\n",
              "      \n",
              "  <style>\n",
              "    .colab-df-container {\n",
              "      display:flex;\n",
              "      flex-wrap:wrap;\n",
              "      gap: 12px;\n",
              "    }\n",
              "\n",
              "    .colab-df-convert {\n",
              "      background-color: #E8F0FE;\n",
              "      border: none;\n",
              "      border-radius: 50%;\n",
              "      cursor: pointer;\n",
              "      display: none;\n",
              "      fill: #1967D2;\n",
              "      height: 32px;\n",
              "      padding: 0 0 0 0;\n",
              "      width: 32px;\n",
              "    }\n",
              "\n",
              "    .colab-df-convert:hover {\n",
              "      background-color: #E2EBFA;\n",
              "      box-shadow: 0px 1px 2px rgba(60, 64, 67, 0.3), 0px 1px 3px 1px rgba(60, 64, 67, 0.15);\n",
              "      fill: #174EA6;\n",
              "    }\n",
              "\n",
              "    [theme=dark] .colab-df-convert {\n",
              "      background-color: #3B4455;\n",
              "      fill: #D2E3FC;\n",
              "    }\n",
              "\n",
              "    [theme=dark] .colab-df-convert:hover {\n",
              "      background-color: #434B5C;\n",
              "      box-shadow: 0px 1px 3px 1px rgba(0, 0, 0, 0.15);\n",
              "      filter: drop-shadow(0px 1px 2px rgba(0, 0, 0, 0.3));\n",
              "      fill: #FFFFFF;\n",
              "    }\n",
              "  </style>\n",
              "\n",
              "      <script>\n",
              "        const buttonEl =\n",
              "          document.querySelector('#df-bd92ad74-f581-4151-8445-837fa414a175 button.colab-df-convert');\n",
              "        buttonEl.style.display =\n",
              "          google.colab.kernel.accessAllowed ? 'block' : 'none';\n",
              "\n",
              "        async function convertToInteractive(key) {\n",
              "          const element = document.querySelector('#df-bd92ad74-f581-4151-8445-837fa414a175');\n",
              "          const dataTable =\n",
              "            await google.colab.kernel.invokeFunction('convertToInteractive',\n",
              "                                                     [key], {});\n",
              "          if (!dataTable) return;\n",
              "\n",
              "          const docLinkHtml = 'Like what you see? Visit the ' +\n",
              "            '<a target=\"_blank\" href=https://colab.research.google.com/notebooks/data_table.ipynb>data table notebook</a>'\n",
              "            + ' to learn more about interactive tables.';\n",
              "          element.innerHTML = '';\n",
              "          dataTable['output_type'] = 'display_data';\n",
              "          await google.colab.output.renderOutput(dataTable, element);\n",
              "          const docLink = document.createElement('div');\n",
              "          docLink.innerHTML = docLinkHtml;\n",
              "          element.appendChild(docLink);\n",
              "        }\n",
              "      </script>\n",
              "    </div>\n",
              "  </div>\n",
              "  "
            ]
          },
          "metadata": {},
          "execution_count": 8
        }
      ]
    },
    {
      "cell_type": "markdown",
      "source": [
        "We split the data into \"reference\" and \"valid\" datasets. Reference dataset is used for training while 40% of the data is held out for model validation"
      ],
      "metadata": {
        "id": "U38mO2TAN-Jx"
      }
    },
    {
      "cell_type": "code",
      "source": [
        "X_train, X_test, y_train, y_test = train_test_split(init_data['review'], init_data['is_positive'],\n",
        "                                                    test_size=0.4, random_state=42, shuffle=True)\n",
        "\n",
        "reference = pd.DataFrame({'review': X_train, 'is_positive': y_train})\n",
        "valid = pd.DataFrame({'review': X_test, 'is_positive': y_test})"
      ],
      "metadata": {
        "id": "_oFVsQBv62Eq"
      },
      "execution_count": 9,
      "outputs": []
    },
    {
      "cell_type": "markdown",
      "source": [
        "Train a model with TF-IDF vectorization and linear classifier on top\n",
        "\n",
        "<br>\n",
        "TfidfVectorizer: Convert a collection of raw documents to a matrix of TF-IDF features.\n",
        "\n"
      ],
      "metadata": {
        "id": "tXLbdHEnOnRG"
      }
    },
    {
      "cell_type": "markdown",
      "source": [
        "\n",
        "\n",
        "---\n",
        "\n"
      ],
      "metadata": {
        "id": "yMuKJ8kn5gYv"
      }
    },
    {
      "cell_type": "markdown",
      "source": [
        "# Example of the TfidfVectorizer"
      ],
      "metadata": {
        "id": "4VRb0AxfwsMJ"
      }
    },
    {
      "cell_type": "code",
      "source": [
        "corpus = [\n",
        "    'This is the first document.',\n",
        "    'This document is the second document.',\n",
        "    'And this is the third one.',\n",
        "    'Is this the first document?',\n",
        "]\n",
        "vectorizer = TfidfVectorizer()\n",
        "X = vectorizer.fit_transform(corpus)\n",
        "vectorizer.get_feature_names_out()\n",
        "print(\"Feature names:\" ,vectorizer.get_feature_names_out())\n",
        "print(vectorizer.vocabulary_)\n",
        "\n",
        "print(X)\n",
        "print(\"Shape=\",X.shape)"
      ],
      "metadata": {
        "id": "TMCgOvzdwxtj",
        "outputId": "7ba76b6f-adc6-41d2-d242-1dbe76ab383d",
        "colab": {
          "base_uri": "https://localhost:8080/"
        }
      },
      "execution_count": 10,
      "outputs": [
        {
          "output_type": "stream",
          "name": "stdout",
          "text": [
            "Feature names: ['and' 'document' 'first' 'is' 'one' 'second' 'the' 'third' 'this']\n",
            "{'this': 8, 'is': 3, 'the': 6, 'first': 2, 'document': 1, 'second': 5, 'and': 0, 'third': 7, 'one': 4}\n",
            "  (0, 1)\t0.46979138557992045\n",
            "  (0, 2)\t0.5802858236844359\n",
            "  (0, 6)\t0.38408524091481483\n",
            "  (0, 3)\t0.38408524091481483\n",
            "  (0, 8)\t0.38408524091481483\n",
            "  (1, 5)\t0.5386476208856763\n",
            "  (1, 1)\t0.6876235979836938\n",
            "  (1, 6)\t0.281088674033753\n",
            "  (1, 3)\t0.281088674033753\n",
            "  (1, 8)\t0.281088674033753\n",
            "  (2, 4)\t0.511848512707169\n",
            "  (2, 7)\t0.511848512707169\n",
            "  (2, 0)\t0.511848512707169\n",
            "  (2, 6)\t0.267103787642168\n",
            "  (2, 3)\t0.267103787642168\n",
            "  (2, 8)\t0.267103787642168\n",
            "  (3, 1)\t0.46979138557992045\n",
            "  (3, 2)\t0.5802858236844359\n",
            "  (3, 6)\t0.38408524091481483\n",
            "  (3, 3)\t0.38408524091481483\n",
            "  (3, 8)\t0.38408524091481483\n",
            "Shape= (4, 9)\n"
          ]
        }
      ]
    },
    {
      "cell_type": "markdown",
      "source": [
        "**Using Stop Words**"
      ],
      "metadata": {
        "id": "22szZ0rL5UtZ"
      }
    },
    {
      "cell_type": "code",
      "source": [
        "from sklearn.feature_extraction import text\n",
        "import nltk\n",
        "nltk.download('stopwords')\n",
        "\n",
        "from nltk.corpus import stopwords\n",
        "\n",
        "corpus = [\n",
        "    'This is the first document.',\n",
        "    'This document is the second document.',\n",
        "    'And this is the third one.',\n",
        "    'Is this the first document?',\n",
        "]\n",
        "\n",
        "stopwords = nltk.corpus.stopwords.words('english')\n",
        "CustomListofWordstoExclude = ['document']\n",
        "stopwords1 = stopwords + CustomListofWordstoExclude\n",
        "\n",
        "vectorizer = TfidfVectorizer(stop_words=stopwords1)\n",
        "X = vectorizer.fit_transform(corpus)\n",
        "vectorizer.get_feature_names_out()\n",
        "print(\"Feature names:\" ,vectorizer.get_feature_names_out())\n",
        "print(vectorizer.vocabulary_)\n",
        "\n",
        "print(X)\n",
        "print(\"Shape=\",X.shape)"
      ],
      "metadata": {
        "id": "E2eK7svr13jh",
        "outputId": "1b1535cc-6c79-4bac-e24e-e25e1e46c660",
        "colab": {
          "base_uri": "https://localhost:8080/"
        }
      },
      "execution_count": 12,
      "outputs": [
        {
          "output_type": "stream",
          "name": "stdout",
          "text": [
            "Feature names: ['first' 'one' 'second' 'third']\n",
            "{'first': 0, 'second': 2, 'third': 3, 'one': 1}\n",
            "  (0, 0)\t1.0\n",
            "  (1, 2)\t1.0\n",
            "  (2, 1)\t0.7071067811865476\n",
            "  (2, 3)\t0.7071067811865476\n",
            "  (3, 0)\t1.0\n",
            "Shape= (4, 4)\n"
          ]
        },
        {
          "output_type": "stream",
          "name": "stderr",
          "text": [
            "[nltk_data] Downloading package stopwords to /root/nltk_data...\n",
            "[nltk_data]   Unzipping corpora/stopwords.zip.\n"
          ]
        }
      ]
    },
    {
      "cell_type": "markdown",
      "source": [
        "\n",
        "\n",
        "---\n",
        "\n"
      ],
      "metadata": {
        "id": "B04SwnIJ5jBV"
      }
    },
    {
      "cell_type": "code",
      "source": [
        "pipeline = Pipeline(\n",
        "    [\n",
        "        (\"vectorization\", TfidfVectorizer(sublinear_tf=True, max_df=0.5, stop_words=\"english\")),\n",
        "        (\"classification\", SGDClassifier(alpha=0.0001, max_iter=50, penalty='l1', loss='modified_huber', random_state=42))\n",
        "        ])\n",
        "pipeline.fit(reference['review'].values, reference['is_positive'].values)"
      ],
      "metadata": {
        "id": "Dr9Qlun_7LqR"
      },
      "execution_count": null,
      "outputs": []
    },
    {
      "cell_type": "markdown",
      "source": [
        "Calculate model predictions for training and validation datasets. Our model predicts the probability of a review being positive"
      ],
      "metadata": {
        "id": "-d7X8PsDO7fK"
      }
    },
    {
      "cell_type": "code",
      "source": [
        "reference['predict_proba'] = pipeline.predict_proba(reference['review'].values)[:,1]\n",
        "valid['predict_proba'] = pipeline.predict_proba(valid['review'].values)[:,1]"
      ],
      "metadata": {
        "id": "1Kbopctq7k1j"
      },
      "execution_count": null,
      "outputs": []
    },
    {
      "cell_type": "code",
      "source": [
        "# set up column mapping\n",
        "column_mapping = ColumnMapping()\n",
        "\n",
        "column_mapping.target = 'is_positive'\n",
        "column_mapping.prediction = 'predict_proba'\n",
        "column_mapping.text_features = ['review']\n",
        "\n",
        "# list features so text field is not treated as a regular feature\n",
        "column_mapping.numerical_features = []\n",
        "column_mapping.categorical_features = []"
      ],
      "metadata": {
        "id": "61ZOAQw58q4J"
      },
      "execution_count": null,
      "outputs": []
    },
    {
      "cell_type": "markdown",
      "source": [
        "Model accuracy on validation dataset is a bit higher than 0.8. This is the level of performance we can expect on similar new data"
      ],
      "metadata": {
        "id": "xExX1rHPPgpI"
      }
    },
    {
      "cell_type": "code",
      "source": [
        "performance_report = Report(metrics=[\n",
        "    ClassificationQualityMetric()\n",
        "])\n",
        "\n",
        "performance_report.run(reference_data=reference, current_data=valid,\n",
        "                        column_mapping=column_mapping)\n",
        "performance_report"
      ],
      "metadata": {
        "id": "n5PqmKOw85r0"
      },
      "execution_count": null,
      "outputs": []
    },
    {
      "cell_type": "markdown",
      "source": [
        "# Data drift due to \"technical issues\""
      ],
      "metadata": {
        "id": "cmcHWJeLQ2e2"
      }
    },
    {
      "cell_type": "markdown",
      "source": [
        "Imagine that after deploying the model something changes at the data collecting stage. Could be that on-line data preprocessing differs from historical one or that some odd update simply breaks data cleaning steps.\n",
        "\n",
        "Let's see what happens if we either inject some random html tags in the review text or translate the review to French."
      ],
      "metadata": {
        "id": "CxXpm1AgQ_xd"
      }
    },
    {
      "cell_type": "code",
      "source": [
        "from googletrans import Translator\n",
        "translator = Translator()\n",
        "\n",
        "def translate_str(s):\n",
        "  return translator.translate(s, dest='fr').text\n",
        "\n",
        "random_html_tags = ('<body>, </body>', '<html><body>', '</body></html>', '<h1>', '</h1>', \n",
        "                    '<svg xmlns=\"http://www.w3.org/2000/svg\" viewBox=\"0 0 0 0\" width=\"0\" height=\"0\" focusable=\"false\" role=\"none\" style=\"visibility: hidden; position: absolute; left: -9999px; overflow: hidden;\"><defs><filter id=\"wp-duotone-magenta-yellow\"><feColorMatrix color-interpolation-filters=\"sRGB\" type=\"matrix\" values=\" .299 .587 .114 0 0 .299 .587 .114 0 0 .299 .587 .114 0 0 .299 .587 .114 0 0 \"></feColorMatrix><feComponentTransfer color-interpolation-filters=\"sRGB\"><feFuncR type=\"table\" tableValues=\"0.78039215686275 1\"></feFuncR><feFuncG type=\"table\" tableValues=\"0 0.94901960784314\"></feFuncG><feFuncB type=\"table\" tableValues=\"0.35294117647059 0.47058823529412\"></feFuncB><feFuncA type=\"table\" tableValues=\"1 1\"></feFuncA></feComponentTransfer><feComposite in2=\"SourceGraphic\" operator=\"in\"></feComposite></filter></defs></svg>')\n",
        "\n",
        "def inject_random_html_tags(s):\n",
        "  num_tags = 25\n",
        "  for i in range(num_tags):\n",
        "    random.seed(i)\n",
        "    pos = random.choice(range(len(s)))\n",
        "    s = s[:pos] + random.choice(random_html_tags) + s[pos:]\n",
        "\n",
        "  return s"
      ],
      "metadata": {
        "id": "ys8RG24FTuAC"
      },
      "execution_count": null,
      "outputs": []
    },
    {
      "cell_type": "code",
      "source": [
        "valid_disturbed = valid[['review', 'is_positive']]"
      ],
      "metadata": {
        "id": "Mierji-ZOYhd"
      },
      "execution_count": null,
      "outputs": []
    },
    {
      "cell_type": "code",
      "source": [
        "disturbed_num = int(len(valid_disturbed) * 0.5)\n",
        "random.seed(42)\n",
        "disturbed_ind = random.sample(list(valid_disturbed.index), k=disturbed_num)\n",
        "valid_disturbed.loc[disturbed_ind[:int(disturbed_num / 10)], 'review'] = \\\n",
        "valid_disturbed.loc[disturbed_ind[:int(disturbed_num / 10)], 'review'].apply(inject_random_html_tags)\n",
        "valid_disturbed.loc[disturbed_ind[int(disturbed_num / 10):], 'review'] = \\\n",
        "valid_disturbed.loc[disturbed_ind[int(disturbed_num / 10):], 'review'].apply(translate_str) "
      ],
      "metadata": {
        "id": "lJqzSPg_O8nm"
      },
      "execution_count": null,
      "outputs": []
    },
    {
      "cell_type": "code",
      "source": [
        "valid_disturbed['predict_proba'] = pipeline.predict_proba(valid_disturbed['review'].values)[:,1]"
      ],
      "metadata": {
        "id": "sTaent8yp_3A"
      },
      "execution_count": null,
      "outputs": []
    },
    {
      "cell_type": "code",
      "source": [
        "performance_report = Report(metrics=[\n",
        "    ClassificationQualityMetric()\n",
        "])\n",
        "\n",
        "performance_report.run(reference_data=valid, current_data=valid_disturbed,\n",
        "                        column_mapping=column_mapping)\n",
        "performance_report"
      ],
      "metadata": {
        "id": "7MeMiL0KUf7N"
      },
      "execution_count": null,
      "outputs": []
    },
    {
      "cell_type": "markdown",
      "source": [
        "Oops! Model accuracy has dropped. Let's look at the Data Drift report to see why"
      ],
      "metadata": {
        "id": "D2STHFwwWxXT"
      }
    },
    {
      "cell_type": "code",
      "source": [
        "import nltk\n",
        "nltk.download('words')\n",
        "nltk.download('wordnet')\n",
        "nltk.download('omw-1.4')"
      ],
      "metadata": {
        "id": "yXWI5SeoSKME"
      },
      "execution_count": null,
      "outputs": []
    },
    {
      "cell_type": "code",
      "source": [
        "data_drift_report = Report(\n",
        "    metrics=[\n",
        "        ColumnDriftMetric('is_positive'),\n",
        "        ColumnDriftMetric('predict_proba'),\n",
        "        TextDescriptorsDriftMetric(column_name='review'),\n",
        "    ]\n",
        ")\n",
        "\n",
        "data_drift_report.run(reference_data=reference, \n",
        "                      current_data=valid_disturbed, \n",
        "                      column_mapping=column_mapping)\n",
        "data_drift_report"
      ],
      "metadata": {
        "id": "RJSXCrsvRFCE"
      },
      "execution_count": null,
      "outputs": []
    },
    {
      "cell_type": "markdown",
      "source": [
        "Here we see the culprit: new (perturbed) dataset contains considerably more suspiciously long reviews and reviews with a lot of OOV (out-of-vocabulary) words\n",
        "\n",
        "If we look at the examples of such reviews we see the problems right away:\n",
        "\n",
        "*   HTML tags not being removed from the texts properly\n",
        "*   Reviews in a new unexpected language\n",
        "\n"
      ],
      "metadata": {
        "id": "D4LDVly9ZLFE"
      }
    },
    {
      "cell_type": "code",
      "source": [
        "from evidently.features.text_length_feature import TextLength\n",
        "from evidently.features.OOV_words_percentage_feature import OOVWordsPercentage"
      ],
      "metadata": {
        "id": "hbhFVlkfZmGW"
      },
      "execution_count": null,
      "outputs": []
    },
    {
      "cell_type": "code",
      "source": [
        "text_feature = TextLength(column_name='review').generate_feature(data=valid_disturbed, data_definition=None)\n",
        "oov_feature = OOVWordsPercentage(column_name='review').generate_feature(data=valid_disturbed, data_definition=None)"
      ],
      "metadata": {
        "id": "u72x-JgMauJm"
      },
      "execution_count": null,
      "outputs": []
    },
    {
      "cell_type": "code",
      "source": [
        "valid_disturbed['text_length'] = text_feature.values\n",
        "valid_disturbed['oov_share'] = oov_feature.values"
      ],
      "metadata": {
        "id": "f7IigmqUbUQg"
      },
      "execution_count": null,
      "outputs": []
    },
    {
      "cell_type": "code",
      "source": [
        "valid_disturbed[valid_disturbed['text_length'] > 1000].head()"
      ],
      "metadata": {
        "id": "WFSWuTYnab-H"
      },
      "execution_count": null,
      "outputs": []
    },
    {
      "cell_type": "code",
      "source": [
        "valid_disturbed[valid_disturbed['text_length'] > 1000].iloc[0, 0]"
      ],
      "metadata": {
        "id": "m4Orn-ijuxz5"
      },
      "execution_count": null,
      "outputs": []
    },
    {
      "cell_type": "code",
      "source": [
        "valid_disturbed[valid_disturbed['oov_share'] > 30].head()"
      ],
      "metadata": {
        "id": "edpfz1JAYlPj"
      },
      "execution_count": null,
      "outputs": []
    },
    {
      "cell_type": "code",
      "source": [
        "data_drift_dataset_report = Report(metrics=[\n",
        "    ColumnDriftMetric(column_name='review')  \n",
        "])\n",
        "\n",
        "data_drift_dataset_report.run(reference_data=reference, \n",
        "                              current_data=valid_disturbed,\n",
        "                              column_mapping=column_mapping)\n",
        "data_drift_dataset_report"
      ],
      "metadata": {
        "id": "0UpODLswFPr7"
      },
      "execution_count": null,
      "outputs": []
    },
    {
      "cell_type": "markdown",
      "source": [
        "# Content drift"
      ],
      "metadata": {
        "id": "VePLsS-P-s3q"
      }
    },
    {
      "cell_type": "markdown",
      "source": [
        "Technical issues sorted out, the model continues to be used for reviews' sentiment analysis. Suppose we decide to apply it on reviews for antidepressants. "
      ],
      "metadata": {
        "id": "n2n9eSx2akjH"
      }
    },
    {
      "cell_type": "code",
      "source": [
        "new_content = raw_data.loc[(raw_data['condition'] == 'Depression') & (raw_data['rating'].isin([1, 10])), ['review', 'rating']]\n",
        "new_content['is_positive'] = new_content['rating'].apply(lambda x: 0 if x == 1 else 1)\n",
        "new_content.drop(['rating'], inplace=True, axis=1)\n",
        "new_content.head()"
      ],
      "metadata": {
        "id": "6SJlPB80-4bI"
      },
      "execution_count": null,
      "outputs": []
    },
    {
      "cell_type": "code",
      "source": [
        "new_content['predict_proba'] = pipeline.predict_proba(new_content['review'].values)[:,1]"
      ],
      "metadata": {
        "id": "f6Fj7emu_U2P"
      },
      "execution_count": null,
      "outputs": []
    },
    {
      "cell_type": "code",
      "source": [
        "performance_report = Report(metrics=[\n",
        "    ClassificationQualityMetric(),\n",
        "])\n",
        "\n",
        "performance_report.run(reference_data=valid, current_data=new_content,\n",
        "                        column_mapping=column_mapping)\n",
        "performance_report"
      ],
      "metadata": {
        "id": "5gJkUeAT_jeD"
      },
      "execution_count": null,
      "outputs": []
    },
    {
      "cell_type": "markdown",
      "source": [
        "Unfortunately, model's performance is worse than expected. Let's look at the Data Drift report"
      ],
      "metadata": {
        "id": "39IVND7CgPJD"
      }
    },
    {
      "cell_type": "code",
      "source": [
        "data_drift_report = Report(\n",
        "    metrics=[\n",
        "        ColumnDriftMetric('is_positive'),\n",
        "        ColumnDriftMetric('predict_proba'),\n",
        "        TextDescriptorsDriftMetric(column_name='review'),\n",
        "    ]\n",
        ")\n",
        "\n",
        "data_drift_report.run(reference_data=reference, \n",
        "                      current_data=new_content, \n",
        "                      column_mapping=column_mapping)\n",
        "data_drift_report"
      ],
      "metadata": {
        "id": "-B6zOYVvgta0"
      },
      "execution_count": null,
      "outputs": []
    },
    {
      "cell_type": "markdown",
      "source": [
        "We see that there's drift in the data. Reviews tend to be longer for the current dataset and OOV words are encountered more often. But nothing as obvious as in the case above.\n",
        "\n",
        "The problem is that it's the reviews *content* that drifted. Let's see how Evidently can help to detect such a change"
      ],
      "metadata": {
        "id": "LHjR3uX_hIMB"
      }
    },
    {
      "cell_type": "markdown",
      "source": [
        "To detect content drift Evidently uses domain classifier approach. A classifier is trained that tries to predict whether a text is from a reference dataset or from a new dataset. If it can be done successfully than the new dataset is significantly different from the reference one. \n",
        "\n",
        "If content data drift is detected Evidently also provides some insights on the nature of the drift:\n",
        "* Words that are more distinctive of the current vs reference dataset.\n",
        "These are the words that are the most informative for the domain classifier when it predicts if a text came from the reference or from the current dataset\n",
        "* Examples of texts that are more distinctive of the current vs reference dataset. These examples were the easiest for a classifier to label correctly"
      ],
      "metadata": {
        "id": "exLUYNjSish0"
      }
    },
    {
      "cell_type": "code",
      "source": [
        "data_drift_dataset_report = Report(metrics=[\n",
        "    ColumnDriftMetric(column_name='review')  \n",
        "])\n",
        "\n",
        "data_drift_dataset_report.run(reference_data=reference, \n",
        "                              current_data=new_content,\n",
        "                              column_mapping=column_mapping)\n",
        "data_drift_dataset_report\n"
      ],
      "metadata": {
        "id": "OQYdNSdr__8j"
      },
      "execution_count": null,
      "outputs": []
    },
    {
      "cell_type": "markdown",
      "source": [
        "At once we can see how the current dataset differs from the reference dataset our model was trained on. Current dataset is characterized with words and examples about depression, mood and popular antidepressants while the reference dataset is more about pain, shock symptoms and popular painkillers"
      ],
      "metadata": {
        "id": "vQkPoRfWk1g8"
      }
    },
    {
      "cell_type": "markdown",
      "source": [
        "Note that no such drift is detected for validation dataset that consists of reviews for painkillers, similar to reference dataset"
      ],
      "metadata": {
        "id": "eQT3ylM9l8j1"
      }
    },
    {
      "cell_type": "code",
      "source": [
        "data_drift_dataset_report = Report(metrics=[\n",
        "    ColumnDriftMetric(column_name='review')  \n",
        "])\n",
        "\n",
        "data_drift_dataset_report.run(reference_data=reference, \n",
        "                              current_data=valid,\n",
        "                              column_mapping=column_mapping)\n",
        "data_drift_dataset_report"
      ],
      "metadata": {
        "id": "Cs6C7qpeAvmE"
      },
      "execution_count": null,
      "outputs": []
    },
    {
      "cell_type": "markdown",
      "source": [
        "One of the solutions to deal with this kind of data change is to retrain the model on a dataset that includes new relevant data. With Evidently it can be done *proactively* by detecting data drift even before information on target labels and model performance is collected"
      ],
      "metadata": {
        "id": "gWgExmA1mn9t"
      }
    }
  ]
}